{
 "cells": [
  {
   "cell_type": "markdown",
   "metadata": {},
   "source": [
    "# SVM_lab"
   ]
  },
  {
   "cell_type": "markdown",
   "metadata": {},
   "source": [
    "## Importing the libraries"
   ]
  },
  {
   "cell_type": "code",
   "execution_count": 1,
   "metadata": {},
   "outputs": [],
   "source": [
    "import numpy as np\n",
    "import pandas as pd\n",
    "from sklearn.model_selection import train_test_split\n",
    "from sklearn import preprocessing\n",
    "%matplotlib inline \n",
    "import matplotlib.pyplot as plt"
   ]
  },
  {
   "cell_type": "code",
   "execution_count": 2,
   "metadata": {},
   "outputs": [],
   "source": [
    "## Importing the dataset 'Social_Network_Ads.csv'\n",
    "dataset = pd.read_csv('Social_Network_Ads.csv')"
   ]
  },
  {
   "cell_type": "code",
   "execution_count": 3,
   "metadata": {},
   "outputs": [],
   "source": [
    "## Splitting the dataset into the Training set and Test set\n",
    "Input = dataset.iloc[ :, 2:4].values \n",
    "output = dataset.iloc[:, -1].values \n",
    "Input_train, Input_test, output_train, output_test = train_test_split(Input, output, test_size=0.25)"
   ]
  },
  {
   "cell_type": "code",
   "execution_count": 4,
   "metadata": {},
   "outputs": [
    {
     "name": "stdout",
     "output_type": "stream",
     "text": [
      "[[    19  19000]\n",
      " [    35  20000]\n",
      " [    26  43000]\n",
      " [    27  57000]\n",
      " [    19  76000]\n",
      " [    27  58000]\n",
      " [    27  84000]\n",
      " [    32 150000]\n",
      " [    25  33000]\n",
      " [    35  65000]\n",
      " [    26  80000]\n",
      " [    26  52000]\n",
      " [    20  86000]\n",
      " [    32  18000]\n",
      " [    18  82000]\n",
      " [    29  80000]\n",
      " [    47  25000]\n",
      " [    45  26000]\n",
      " [    46  28000]\n",
      " [    48  29000]\n",
      " [    45  22000]\n",
      " [    47  49000]\n",
      " [    48  41000]\n",
      " [    45  22000]\n",
      " [    46  23000]\n",
      " [    47  20000]\n",
      " [    49  28000]\n",
      " [    47  30000]\n",
      " [    29  43000]\n",
      " [    31  18000]\n",
      " [    31  74000]\n",
      " [    27 137000]\n",
      " [    21  16000]\n",
      " [    28  44000]\n",
      " [    27  90000]\n",
      " [    35  27000]\n",
      " [    33  28000]\n",
      " [    30  49000]\n",
      " [    26  72000]\n",
      " [    27  31000]\n",
      " [    27  17000]\n",
      " [    33  51000]\n",
      " [    35 108000]\n",
      " [    30  15000]\n",
      " [    28  84000]\n",
      " [    23  20000]\n",
      " [    25  79000]\n",
      " [    27  54000]\n",
      " [    30 135000]\n",
      " [    31  89000]\n",
      " [    24  32000]\n",
      " [    18  44000]\n",
      " [    29  83000]\n",
      " [    35  23000]\n",
      " [    27  58000]\n",
      " [    24  55000]\n",
      " [    23  48000]\n",
      " [    28  79000]\n",
      " [    22  18000]\n",
      " [    32 117000]\n",
      " [    27  20000]\n",
      " [    25  87000]\n",
      " [    23  66000]\n",
      " [    32 120000]\n",
      " [    59  83000]\n",
      " [    24  58000]\n",
      " [    24  19000]\n",
      " [    23  82000]\n",
      " [    22  63000]\n",
      " [    31  68000]\n",
      " [    25  80000]\n",
      " [    24  27000]\n",
      " [    20  23000]\n",
      " [    33 113000]\n",
      " [    32  18000]\n",
      " [    34 112000]\n",
      " [    18  52000]\n",
      " [    22  27000]\n",
      " [    28  87000]\n",
      " [    26  17000]\n",
      " [    30  80000]\n",
      " [    39  42000]\n",
      " [    20  49000]\n",
      " [    35  88000]\n",
      " [    30  62000]\n",
      " [    31 118000]\n",
      " [    24  55000]\n",
      " [    28  85000]\n",
      " [    26  81000]\n",
      " [    35  50000]\n",
      " [    22  81000]\n",
      " [    30 116000]\n",
      " [    26  15000]\n",
      " [    29  28000]\n",
      " [    29  83000]\n",
      " [    35  44000]\n",
      " [    35  25000]\n",
      " [    28 123000]\n",
      " [    35  73000]\n",
      " [    28  37000]\n",
      " [    27  88000]\n",
      " [    28  59000]\n",
      " [    32  86000]\n",
      " [    33 149000]\n",
      " [    19  21000]\n",
      " [    21  72000]\n",
      " [    26  35000]\n",
      " [    27  89000]\n",
      " [    26  86000]\n",
      " [    38  80000]\n",
      " [    39  71000]\n",
      " [    37  71000]\n",
      " [    38  61000]\n",
      " [    37  55000]\n",
      " [    42  80000]\n",
      " [    40  57000]\n",
      " [    35  75000]\n",
      " [    36  52000]\n",
      " [    40  59000]\n",
      " [    41  59000]\n",
      " [    36  75000]\n",
      " [    37  72000]\n",
      " [    40  75000]\n",
      " [    35  53000]\n",
      " [    41  51000]\n",
      " [    39  61000]\n",
      " [    42  65000]\n",
      " [    26  32000]\n",
      " [    30  17000]\n",
      " [    26  84000]\n",
      " [    31  58000]\n",
      " [    33  31000]\n",
      " [    30  87000]\n",
      " [    21  68000]\n",
      " [    28  55000]\n",
      " [    23  63000]\n",
      " [    20  82000]\n",
      " [    30 107000]\n",
      " [    28  59000]\n",
      " [    19  25000]\n",
      " [    19  85000]\n",
      " [    18  68000]\n",
      " [    35  59000]\n",
      " [    30  89000]\n",
      " [    34  25000]\n",
      " [    24  89000]\n",
      " [    27  96000]\n",
      " [    41  30000]\n",
      " [    29  61000]\n",
      " [    20  74000]\n",
      " [    26  15000]\n",
      " [    41  45000]\n",
      " [    31  76000]\n",
      " [    36  50000]\n",
      " [    40  47000]\n",
      " [    31  15000]\n",
      " [    46  59000]\n",
      " [    29  75000]\n",
      " [    26  30000]\n",
      " [    32 135000]\n",
      " [    32 100000]\n",
      " [    25  90000]\n",
      " [    37  33000]\n",
      " [    35  38000]\n",
      " [    33  69000]\n",
      " [    18  86000]\n",
      " [    22  55000]\n",
      " [    35  71000]\n",
      " [    29 148000]\n",
      " [    29  47000]\n",
      " [    21  88000]\n",
      " [    34 115000]\n",
      " [    26 118000]\n",
      " [    34  43000]\n",
      " [    34  72000]\n",
      " [    23  28000]\n",
      " [    35  47000]\n",
      " [    25  22000]\n",
      " [    24  23000]\n",
      " [    31  34000]\n",
      " [    26  16000]\n",
      " [    31  71000]\n",
      " [    32 117000]\n",
      " [    33  43000]\n",
      " [    33  60000]\n",
      " [    31  66000]\n",
      " [    20  82000]\n",
      " [    33  41000]\n",
      " [    35  72000]\n",
      " [    28  32000]\n",
      " [    24  84000]\n",
      " [    19  26000]\n",
      " [    29  43000]\n",
      " [    19  70000]\n",
      " [    28  89000]\n",
      " [    34  43000]\n",
      " [    30  79000]\n",
      " [    20  36000]\n",
      " [    26  80000]\n",
      " [    35  22000]\n",
      " [    35  39000]\n",
      " [    49  74000]\n",
      " [    39 134000]\n",
      " [    41  71000]\n",
      " [    58 101000]\n",
      " [    47  47000]\n",
      " [    55 130000]\n",
      " [    52 114000]\n",
      " [    40 142000]\n",
      " [    46  22000]\n",
      " [    48  96000]\n",
      " [    52 150000]\n",
      " [    59  42000]\n",
      " [    35  58000]\n",
      " [    47  43000]\n",
      " [    60 108000]\n",
      " [    49  65000]\n",
      " [    40  78000]\n",
      " [    46  96000]\n",
      " [    59 143000]\n",
      " [    41  80000]\n",
      " [    35  91000]\n",
      " [    37 144000]\n",
      " [    60 102000]\n",
      " [    35  60000]\n",
      " [    37  53000]\n",
      " [    36 126000]\n",
      " [    56 133000]\n",
      " [    40  72000]\n",
      " [    42  80000]\n",
      " [    35 147000]\n",
      " [    39  42000]\n",
      " [    40 107000]\n",
      " [    49  86000]\n",
      " [    38 112000]\n",
      " [    46  79000]\n",
      " [    40  57000]\n",
      " [    37  80000]\n",
      " [    46  82000]\n",
      " [    53 143000]\n",
      " [    42 149000]\n",
      " [    38  59000]\n",
      " [    50  88000]\n",
      " [    56 104000]\n",
      " [    41  72000]\n",
      " [    51 146000]\n",
      " [    35  50000]\n",
      " [    57 122000]\n",
      " [    41  52000]\n",
      " [    35  97000]\n",
      " [    44  39000]\n",
      " [    37  52000]\n",
      " [    48 134000]\n",
      " [    37 146000]\n",
      " [    50  44000]\n",
      " [    52  90000]\n",
      " [    41  72000]\n",
      " [    40  57000]\n",
      " [    58  95000]\n",
      " [    45 131000]\n",
      " [    35  77000]\n",
      " [    36 144000]\n",
      " [    55 125000]\n",
      " [    35  72000]\n",
      " [    48  90000]\n",
      " [    42 108000]\n",
      " [    40  75000]\n",
      " [    37  74000]\n",
      " [    47 144000]\n",
      " [    40  61000]\n",
      " [    43 133000]\n",
      " [    59  76000]\n",
      " [    60  42000]\n",
      " [    39 106000]\n",
      " [    57  26000]\n",
      " [    57  74000]\n",
      " [    38  71000]\n",
      " [    49  88000]\n",
      " [    52  38000]\n",
      " [    50  36000]\n",
      " [    59  88000]\n",
      " [    35  61000]\n",
      " [    37  70000]\n",
      " [    52  21000]\n",
      " [    48 141000]\n",
      " [    37  93000]\n",
      " [    37  62000]\n",
      " [    48 138000]\n",
      " [    41  79000]\n",
      " [    37  78000]\n",
      " [    39 134000]\n",
      " [    49  89000]\n",
      " [    55  39000]\n",
      " [    37  77000]\n",
      " [    35  57000]\n",
      " [    36  63000]\n",
      " [    42  73000]\n",
      " [    43 112000]\n",
      " [    45  79000]\n",
      " [    46 117000]\n",
      " [    58  38000]\n",
      " [    48  74000]\n",
      " [    37 137000]\n",
      " [    37  79000]\n",
      " [    40  60000]\n",
      " [    42  54000]\n",
      " [    51 134000]\n",
      " [    47 113000]\n",
      " [    36 125000]\n",
      " [    38  50000]\n",
      " [    42  70000]\n",
      " [    39  96000]\n",
      " [    38  50000]\n",
      " [    49 141000]\n",
      " [    39  79000]\n",
      " [    39  75000]\n",
      " [    54 104000]\n",
      " [    35  55000]\n",
      " [    45  32000]\n",
      " [    36  60000]\n",
      " [    52 138000]\n",
      " [    53  82000]\n",
      " [    41  52000]\n",
      " [    48  30000]\n",
      " [    48 131000]\n",
      " [    41  60000]\n",
      " [    41  72000]\n",
      " [    42  75000]\n",
      " [    36 118000]\n",
      " [    47 107000]\n",
      " [    38  51000]\n",
      " [    48 119000]\n",
      " [    42  65000]\n",
      " [    40  65000]\n",
      " [    57  60000]\n",
      " [    36  54000]\n",
      " [    58 144000]\n",
      " [    35  79000]\n",
      " [    38  55000]\n",
      " [    39 122000]\n",
      " [    53 104000]\n",
      " [    35  75000]\n",
      " [    38  65000]\n",
      " [    47  51000]\n",
      " [    47 105000]\n",
      " [    41  63000]\n",
      " [    53  72000]\n",
      " [    54 108000]\n",
      " [    39  77000]\n",
      " [    38  61000]\n",
      " [    38 113000]\n",
      " [    37  75000]\n",
      " [    42  90000]\n",
      " [    37  57000]\n",
      " [    36  99000]\n",
      " [    60  34000]\n",
      " [    54  70000]\n",
      " [    41  72000]\n",
      " [    40  71000]\n",
      " [    42  54000]\n",
      " [    43 129000]\n",
      " [    53  34000]\n",
      " [    47  50000]\n",
      " [    42  79000]\n",
      " [    42 104000]\n",
      " [    59  29000]\n",
      " [    58  47000]\n",
      " [    46  88000]\n",
      " [    38  71000]\n",
      " [    54  26000]\n",
      " [    60  46000]\n",
      " [    60  83000]\n",
      " [    39  73000]\n",
      " [    59 130000]\n",
      " [    37  80000]\n",
      " [    46  32000]\n",
      " [    46  74000]\n",
      " [    42  53000]\n",
      " [    41  87000]\n",
      " [    58  23000]\n",
      " [    42  64000]\n",
      " [    48  33000]\n",
      " [    44 139000]\n",
      " [    49  28000]\n",
      " [    57  33000]\n",
      " [    56  60000]\n",
      " [    49  39000]\n",
      " [    39  71000]\n",
      " [    47  34000]\n",
      " [    48  35000]\n",
      " [    48  33000]\n",
      " [    47  23000]\n",
      " [    45  45000]\n",
      " [    60  42000]\n",
      " [    39  59000]\n",
      " [    46  41000]\n",
      " [    51  23000]\n",
      " [    50  20000]\n",
      " [    36  33000]\n",
      " [    49  36000]]\n"
     ]
    }
   ],
   "source": [
    "print(Input)"
   ]
  },
  {
   "cell_type": "markdown",
   "metadata": {},
   "source": [
    "## Feature Scaling"
   ]
  },
  {
   "cell_type": "code",
   "execution_count": 5,
   "metadata": {},
   "outputs": [
    {
     "name": "stderr",
     "output_type": "stream",
     "text": [
      "c:\\users\\admin\\appdata\\local\\programs\\python\\python37-32\\lib\\site-packages\\sklearn\\utils\\validation.py:595: DataConversionWarning: Data with input dtype int64 was converted to float64 by StandardScaler.\n",
      "  warnings.warn(msg, DataConversionWarning)\n",
      "c:\\users\\admin\\appdata\\local\\programs\\python\\python37-32\\lib\\site-packages\\sklearn\\utils\\validation.py:595: DataConversionWarning: Data with input dtype int64 was converted to float64 by StandardScaler.\n",
      "  warnings.warn(msg, DataConversionWarning)\n",
      "c:\\users\\admin\\appdata\\local\\programs\\python\\python37-32\\lib\\site-packages\\sklearn\\utils\\validation.py:595: DataConversionWarning: Data with input dtype int64 was converted to float64 by StandardScaler.\n",
      "  warnings.warn(msg, DataConversionWarning)\n"
     ]
    }
   ],
   "source": [
    "# transform only X_train and X_test\n",
    "# transform only X_train and X_test\n",
    "from sklearn.preprocessing import StandardScaler\n",
    "standard_scaler = StandardScaler()\n",
    "Input_train = standard_scaler.fit_transform(Input_train)\n",
    "Input_test = standard_scaler.transform(Input_test)"
   ]
  },
  {
   "cell_type": "markdown",
   "metadata": {},
   "source": [
    "## Import the SVCclass"
   ]
  },
  {
   "cell_type": "code",
   "execution_count": 9,
   "metadata": {},
   "outputs": [],
   "source": [
    "from sklearn.svm import SVC"
   ]
  },
  {
   "cell_type": "markdown",
   "metadata": {},
   "source": [
    "## Make an instance of the class with appropriate parameters"
   ]
  },
  {
   "cell_type": "code",
   "execution_count": 10,
   "metadata": {},
   "outputs": [],
   "source": [
    "classifier = SVC()"
   ]
  },
  {
   "cell_type": "markdown",
   "metadata": {},
   "source": [
    "## Fit the model into X_train and y_train"
   ]
  },
  {
   "cell_type": "code",
   "execution_count": 11,
   "metadata": {},
   "outputs": [
    {
     "name": "stdout",
     "output_type": "stream",
     "text": [
      "SVC(C=1.0, cache_size=200, class_weight=None, coef0=0.0,\n",
      "  decision_function_shape='ovr', degree=3, gamma='auto_deprecated',\n",
      "  kernel='rbf', max_iter=-1, probability=False, random_state=None,\n",
      "  shrinking=True, tol=0.001, verbose=False)\n"
     ]
    }
   ],
   "source": [
    "classifier.fit(Input_train, output_train) \n",
    "print(classifier)"
   ]
  },
  {
   "cell_type": "markdown",
   "metadata": {},
   "source": [
    "## Make the predictions on X_test"
   ]
  },
  {
   "cell_type": "code",
   "execution_count": 12,
   "metadata": {},
   "outputs": [],
   "source": [
    "output_pred = classifier.predict(Input_test)  "
   ]
  },
  {
   "cell_type": "markdown",
   "metadata": {},
   "source": [
    "## Make the confusion matrix on y_test and y_pred"
   ]
  },
  {
   "cell_type": "code",
   "execution_count": 13,
   "metadata": {},
   "outputs": [],
   "source": [
    "# Import the library\n",
    "from sklearn.metrics import confusion_matrix\n",
    "from sklearn import metrics\n",
    "# Make the Confusion Matrix\n",
    "cm = metrics.confusion_matrix(output_test, output_pred)"
   ]
  },
  {
   "cell_type": "markdown",
   "metadata": {},
   "source": [
    "## Visualize the results"
   ]
  },
  {
   "cell_type": "markdown",
   "metadata": {},
   "source": [
    "### An example of confusion matrix.m"
   ]
  },
  {
   "cell_type": "markdown",
   "metadata": {},
   "source": [
    "<img src=\"confusion_matrix2.png\">"
   ]
  },
  {
   "cell_type": "code",
   "execution_count": 14,
   "metadata": {},
   "outputs": [
    {
     "data": {
      "image/png": "[encoded data removed]",
      "text/plain": [
       "<Figure size 432x288 with 1 Axes>"
      ]
     },
     "metadata": {
      "needs_background": "light"
     },
     "output_type": "display_data"
    }
   ],
   "source": [
    "import itertools\n",
    "\n",
    "labels = ['Predicted NO', 'Predicted YES','Actual NO','Actual YES']\n",
    "fig = plt.figure()\n",
    "ax = fig.add_subplot(111)\n",
    "cax = ax.matshow(cm)\n",
    "plt.title('Confusion matrix of the classifier \\n')\n",
    "\n",
    "ax.set_xticklabels([''] + labels[0:2])\n",
    "ax.set_yticklabels([''] + labels[2:4])\n",
    "\n",
    "fmt = '.0f'\n",
    "\n",
    "for i, j in itertools.product(range(cm.shape[0]), range(cm.shape[1])):\n",
    "    plt.text(j, i, format(cm[i, j], fmt),\n",
    "        horizontalalignment=\"center\",\n",
    "        color=\"red\", fontsize = 22)\n",
    "\n",
    "plt.show()"
   ]
  },
  {
   "cell_type": "code",
   "execution_count": 16,
   "metadata": {},
   "outputs": [
    {
     "name": "stderr",
     "output_type": "stream",
     "text": [
      "'c' argument looks like a single numeric RGB or RGBA sequence, which should be avoided as value-mapping will have precedence in case its length matches with 'x' & 'y'.  Please use a 2-D array with a single row if you really want to specify the same RGB or RGBA value for all points.\n",
      "'c' argument looks like a single numeric RGB or RGBA sequence, which should be avoided as value-mapping will have precedence in case its length matches with 'x' & 'y'.  Please use a 2-D array with a single row if you really want to specify the same RGB or RGBA value for all points.\n"
     ]
    },
    {
     "data": {
      "image/png": "[encoded data removed]",
      "text/plain": [
       "<Figure size 432x288 with 1 Axes>"
      ]
     },
     "metadata": {
      "needs_background": "light"
     },
     "output_type": "display_data"
    }
   ],
   "source": [
    "# Visualising the Training set results\n",
    "from matplotlib.colors import ListedColormap\n",
    "X_set, y_set = Input_train, output_train\n",
    "X1, X2 = np.meshgrid(np.arange(start = X_set[:, 0].min() - 1, stop = X_set[:, 0].max() + 1, step = 0.01),\n",
    "                     np.arange(start = X_set[:, 1].min() - 1, stop = X_set[:, 1].max() + 1, step = 0.01))\n",
    "plt.contourf(X1, X2, classifier.predict(np.array([X1.ravel(), X2.ravel()]).T).reshape(X1.shape),\n",
    "             alpha = 0.75, cmap = ListedColormap(('red', 'green')))\n",
    "plt.xlim(X1.min(), X1.max())\n",
    "plt.ylim(X2.min(), X2.max())\n",
    "for i, j in enumerate(np.unique(y_set)):\n",
    "    plt.scatter(X_set[y_set == j, 0], X_set[y_set == j, 1],\n",
    "                c = ListedColormap(('red', 'green'))(i), label = j)\n",
    "plt.title('K-NN (Training set)')\n",
    "plt.xlabel('Age')\n",
    "plt.ylabel('Estimated Salary')\n",
    "plt.legend()\n",
    "plt.show()"
   ]
  },
  {
   "cell_type": "code",
   "execution_count": 17,
   "metadata": {},
   "outputs": [
    {
     "name": "stderr",
     "output_type": "stream",
     "text": [
      "'c' argument looks like a single numeric RGB or RGBA sequence, which should be avoided as value-mapping will have precedence in case its length matches with 'x' & 'y'.  Please use a 2-D array with a single row if you really want to specify the same RGB or RGBA value for all points.\n",
      "'c' argument looks like a single numeric RGB or RGBA sequence, which should be avoided as value-mapping will have precedence in case its length matches with 'x' & 'y'.  Please use a 2-D array with a single row if you really want to specify the same RGB or RGBA value for all points.\n"
     ]
    },
    {
     "data": {
      "image/png": "[encoded data removed]",
      "text/plain": [
       "<Figure size 432x288 with 1 Axes>"
      ]
     },
     "metadata": {
      "needs_background": "light"
     },
     "output_type": "display_data"
    }
   ],
   "source": [
    "# Visualising the Test set results\n",
    "from matplotlib.colors import ListedColormap\n",
    "X_set, y_set = Input_test, output_test\n",
    "X1, X2 = np.meshgrid(np.arange(start = X_set[:, 0].min() - 1, stop = X_set[:, 0].max() + 1, step = 0.01),\n",
    "                     np.arange(start = X_set[:, 1].min() - 1, stop = X_set[:, 1].max() + 1, step = 0.01))\n",
    "plt.contourf(X1, X2, classifier.predict(np.array([X1.ravel(), X2.ravel()]).T).reshape(X1.shape),\n",
    "             alpha = 0.75, cmap = ListedColormap(('red', 'green')))\n",
    "plt.xlim(X1.min(), X1.max())\n",
    "plt.ylim(X2.min(), X2.max())\n",
    "for i, j in enumerate(np.unique(y_set)):\n",
    "    plt.scatter(X_set[y_set == j, 0], X_set[y_set == j, 1],\n",
    "                c = ListedColormap(('red', 'green'))(i), label = j)\n",
    "plt.title('K-NN (Test set)')\n",
    "plt.xlabel('Age')\n",
    "plt.ylabel('Estimated Salary')\n",
    "plt.legend()\n",
    "plt.show()"
   ]
  },
  {
   "cell_type": "code",
   "execution_count": null,
   "metadata": {},
   "outputs": [],
   "source": []
  }
 ],
 "metadata": {
  "kernelspec": {
   "display_name": "Python 3",
   "language": "python",
   "name": "python3"
  },
  "language_info": {
   "codemirror_mode": {
    "name": "ipython",
    "version": 3
   },
   "file_extension": ".py",
   "mimetype": "text/x-python",
   "name": "python",
   "nbconvert_exporter": "python",
   "pygments_lexer": "ipython3",
   "version": "3.7.2"
  },
  "varInspector": {
   "cols": {
    "lenName": 16,
    "lenType": 16,
    "lenVar": 40
   },
   "kernels_config": {
    "python": {
     "delete_cmd_postfix": "",
     "delete_cmd_prefix": "del ",
     "library": "var_list.py",
     "varRefreshCmd": "print(var_dic_list())"
    },
    "r": {
     "delete_cmd_postfix": ") ",
     "delete_cmd_prefix": "rm(",
     "library": "var_list.r",
     "varRefreshCmd": "cat(var_dic_list()) "
    }
   },
   "types_to_exclude": [
    "module",
    "function",
    "builtin_function_or_method",
    "instance",
    "_Feature"
   ],
   "window_display": false
  }
 },
 "nbformat": 4,
 "nbformat_minor": 2
}
