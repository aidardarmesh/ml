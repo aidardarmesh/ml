{
 "cells": [
  {
   "cell_type": "markdown",
   "metadata": {
    "colab_type": "text",
    "id": "DcrHbMtHq_WB"
   },
   "source": [
    "# DL models in Keras"
   ]
  },
  {
   "cell_type": "markdown",
   "metadata": {
    "colab_type": "text",
    "id": "j46JURZrq_WC"
   },
   "source": [
    "Import pandas, numpy,<br />\n",
    "Dense layer and Sequential model from keras"
   ]
  },
  {
   "cell_type": "code",
   "execution_count": 1,
   "metadata": {
    "colab": {
     "base_uri": "https://localhost:8080/",
     "height": 34
    },
    "colab_type": "code",
    "id": "u6pBBT-bq_WD",
    "outputId": "14937281-2495-464e-db9a-1b542300109d"
   },
   "outputs": [
    {
     "name": "stderr",
     "output_type": "stream",
     "text": [
      "Using TensorFlow backend.\n"
     ]
    }
   ],
   "source": [
    "# importing\n",
    "import pandas as pd\n",
    "import keras\n",
    "from keras.layers import Dense\n",
    "from keras.models import Sequential\n",
    "import io"
   ]
  },
  {
   "cell_type": "markdown",
   "metadata": {
    "colab_type": "text",
    "id": "Mws6w8I0q_WG"
   },
   "source": [
    "Read the dataset"
   ]
  },
  {
   "cell_type": "code",
   "execution_count": 0,
   "metadata": {
    "colab": {},
    "colab_type": "code",
    "id": "LPlo32ccq_WG"
   },
   "outputs": [],
   "source": [
    "dataset = pd.read_csv('hourly_wages.csv')"
   ]
  },
  {
   "cell_type": "markdown",
   "metadata": {
    "colab_type": "text",
    "id": "eY3crLtGq_WI"
   },
   "source": [
    "Explore the datasets first five samples"
   ]
  },
  {
   "cell_type": "code",
   "execution_count": 7,
   "metadata": {
    "colab": {
     "base_uri": "https://localhost:8080/",
     "height": 204
    },
    "colab_type": "code",
    "id": "r8J0CThSq_WJ",
    "outputId": "31372b56-50a3-4475-fa78-154c49fb279c"
   },
   "outputs": [
    {
     "data": {
      "text/html": [
       "<div>\n",
       "<style scoped>\n",
       "    .dataframe tbody tr th:only-of-type {\n",
       "        vertical-align: middle;\n",
       "    }\n",
       "\n",
       "    .dataframe tbody tr th {\n",
       "        vertical-align: top;\n",
       "    }\n",
       "\n",
       "    .dataframe thead th {\n",
       "        text-align: right;\n",
       "    }\n",
       "</style>\n",
       "<table border=\"1\" class=\"dataframe\">\n",
       "  <thead>\n",
       "    <tr style=\"text-align: right;\">\n",
       "      <th></th>\n",
       "      <th>wage_per_hour</th>\n",
       "      <th>union</th>\n",
       "      <th>education_yrs</th>\n",
       "      <th>experience_yrs</th>\n",
       "      <th>age</th>\n",
       "      <th>female</th>\n",
       "      <th>marr</th>\n",
       "      <th>south</th>\n",
       "      <th>manufacturing</th>\n",
       "      <th>construction</th>\n",
       "    </tr>\n",
       "  </thead>\n",
       "  <tbody>\n",
       "    <tr>\n",
       "      <th>0</th>\n",
       "      <td>5.10</td>\n",
       "      <td>0</td>\n",
       "      <td>8</td>\n",
       "      <td>21</td>\n",
       "      <td>35</td>\n",
       "      <td>1</td>\n",
       "      <td>1</td>\n",
       "      <td>0</td>\n",
       "      <td>1</td>\n",
       "      <td>0</td>\n",
       "    </tr>\n",
       "    <tr>\n",
       "      <th>1</th>\n",
       "      <td>4.95</td>\n",
       "      <td>0</td>\n",
       "      <td>9</td>\n",
       "      <td>42</td>\n",
       "      <td>57</td>\n",
       "      <td>1</td>\n",
       "      <td>1</td>\n",
       "      <td>0</td>\n",
       "      <td>1</td>\n",
       "      <td>0</td>\n",
       "    </tr>\n",
       "    <tr>\n",
       "      <th>2</th>\n",
       "      <td>6.67</td>\n",
       "      <td>0</td>\n",
       "      <td>12</td>\n",
       "      <td>1</td>\n",
       "      <td>19</td>\n",
       "      <td>0</td>\n",
       "      <td>0</td>\n",
       "      <td>0</td>\n",
       "      <td>1</td>\n",
       "      <td>0</td>\n",
       "    </tr>\n",
       "    <tr>\n",
       "      <th>3</th>\n",
       "      <td>4.00</td>\n",
       "      <td>0</td>\n",
       "      <td>12</td>\n",
       "      <td>4</td>\n",
       "      <td>22</td>\n",
       "      <td>0</td>\n",
       "      <td>0</td>\n",
       "      <td>0</td>\n",
       "      <td>0</td>\n",
       "      <td>0</td>\n",
       "    </tr>\n",
       "    <tr>\n",
       "      <th>4</th>\n",
       "      <td>7.50</td>\n",
       "      <td>0</td>\n",
       "      <td>12</td>\n",
       "      <td>17</td>\n",
       "      <td>35</td>\n",
       "      <td>0</td>\n",
       "      <td>1</td>\n",
       "      <td>0</td>\n",
       "      <td>0</td>\n",
       "      <td>0</td>\n",
       "    </tr>\n",
       "  </tbody>\n",
       "</table>\n",
       "</div>"
      ],
      "text/plain": [
       "   wage_per_hour  union  education_yrs  experience_yrs  age  female  marr  \\\n",
       "0           5.10      0              8              21   35       1     1   \n",
       "1           4.95      0              9              42   57       1     1   \n",
       "2           6.67      0             12               1   19       0     0   \n",
       "3           4.00      0             12               4   22       0     0   \n",
       "4           7.50      0             12              17   35       0     1   \n",
       "\n",
       "   south  manufacturing  construction  \n",
       "0      0              1             0  \n",
       "1      0              1             0  \n",
       "2      0              1             0  \n",
       "3      0              0             0  \n",
       "4      0              0             0  "
      ]
     },
     "execution_count": 7,
     "metadata": {
      "tags": []
     },
     "output_type": "execute_result"
    }
   ],
   "source": [
    "dataset.head()"
   ]
  },
  {
   "cell_type": "markdown",
   "metadata": {
    "colab_type": "text",
    "id": "Jvz1Ndpsq_WL"
   },
   "source": [
    "Check the datasets structure by calling the <i>describe</i> method"
   ]
  },
  {
   "cell_type": "code",
   "execution_count": 42,
   "metadata": {
    "colab": {
     "base_uri": "https://localhost:8080/",
     "height": 297
    },
    "colab_type": "code",
    "id": "TBzaeRICq_WM",
    "outputId": "92af245f-8da2-4ad2-b507-8ff9bb17e901"
   },
   "outputs": [
    {
     "data": {
      "text/html": [
       "<div>\n",
       "<style scoped>\n",
       "    .dataframe tbody tr th:only-of-type {\n",
       "        vertical-align: middle;\n",
       "    }\n",
       "\n",
       "    .dataframe tbody tr th {\n",
       "        vertical-align: top;\n",
       "    }\n",
       "\n",
       "    .dataframe thead th {\n",
       "        text-align: right;\n",
       "    }\n",
       "</style>\n",
       "<table border=\"1\" class=\"dataframe\">\n",
       "  <thead>\n",
       "    <tr style=\"text-align: right;\">\n",
       "      <th></th>\n",
       "      <th>wage_per_hour</th>\n",
       "      <th>union</th>\n",
       "      <th>education_yrs</th>\n",
       "      <th>experience_yrs</th>\n",
       "      <th>age</th>\n",
       "      <th>female</th>\n",
       "      <th>marr</th>\n",
       "      <th>south</th>\n",
       "      <th>manufacturing</th>\n",
       "      <th>construction</th>\n",
       "    </tr>\n",
       "  </thead>\n",
       "  <tbody>\n",
       "    <tr>\n",
       "      <th>count</th>\n",
       "      <td>534.000000</td>\n",
       "      <td>534.000000</td>\n",
       "      <td>534.000000</td>\n",
       "      <td>534.000000</td>\n",
       "      <td>534.000000</td>\n",
       "      <td>534.000000</td>\n",
       "      <td>534.000000</td>\n",
       "      <td>534.000000</td>\n",
       "      <td>534.000000</td>\n",
       "      <td>534.000000</td>\n",
       "    </tr>\n",
       "    <tr>\n",
       "      <th>mean</th>\n",
       "      <td>9.024064</td>\n",
       "      <td>0.179775</td>\n",
       "      <td>13.018727</td>\n",
       "      <td>17.822097</td>\n",
       "      <td>36.833333</td>\n",
       "      <td>0.458801</td>\n",
       "      <td>0.655431</td>\n",
       "      <td>0.292135</td>\n",
       "      <td>0.185393</td>\n",
       "      <td>0.044944</td>\n",
       "    </tr>\n",
       "    <tr>\n",
       "      <th>std</th>\n",
       "      <td>5.139097</td>\n",
       "      <td>0.384360</td>\n",
       "      <td>2.615373</td>\n",
       "      <td>12.379710</td>\n",
       "      <td>11.726573</td>\n",
       "      <td>0.498767</td>\n",
       "      <td>0.475673</td>\n",
       "      <td>0.455170</td>\n",
       "      <td>0.388981</td>\n",
       "      <td>0.207375</td>\n",
       "    </tr>\n",
       "    <tr>\n",
       "      <th>min</th>\n",
       "      <td>1.000000</td>\n",
       "      <td>0.000000</td>\n",
       "      <td>2.000000</td>\n",
       "      <td>0.000000</td>\n",
       "      <td>18.000000</td>\n",
       "      <td>0.000000</td>\n",
       "      <td>0.000000</td>\n",
       "      <td>0.000000</td>\n",
       "      <td>0.000000</td>\n",
       "      <td>0.000000</td>\n",
       "    </tr>\n",
       "    <tr>\n",
       "      <th>25%</th>\n",
       "      <td>5.250000</td>\n",
       "      <td>0.000000</td>\n",
       "      <td>12.000000</td>\n",
       "      <td>8.000000</td>\n",
       "      <td>28.000000</td>\n",
       "      <td>0.000000</td>\n",
       "      <td>0.000000</td>\n",
       "      <td>0.000000</td>\n",
       "      <td>0.000000</td>\n",
       "      <td>0.000000</td>\n",
       "    </tr>\n",
       "    <tr>\n",
       "      <th>50%</th>\n",
       "      <td>7.780000</td>\n",
       "      <td>0.000000</td>\n",
       "      <td>12.000000</td>\n",
       "      <td>15.000000</td>\n",
       "      <td>35.000000</td>\n",
       "      <td>0.000000</td>\n",
       "      <td>1.000000</td>\n",
       "      <td>0.000000</td>\n",
       "      <td>0.000000</td>\n",
       "      <td>0.000000</td>\n",
       "    </tr>\n",
       "    <tr>\n",
       "      <th>75%</th>\n",
       "      <td>11.250000</td>\n",
       "      <td>0.000000</td>\n",
       "      <td>15.000000</td>\n",
       "      <td>26.000000</td>\n",
       "      <td>44.000000</td>\n",
       "      <td>1.000000</td>\n",
       "      <td>1.000000</td>\n",
       "      <td>1.000000</td>\n",
       "      <td>0.000000</td>\n",
       "      <td>0.000000</td>\n",
       "    </tr>\n",
       "    <tr>\n",
       "      <th>max</th>\n",
       "      <td>44.500000</td>\n",
       "      <td>1.000000</td>\n",
       "      <td>18.000000</td>\n",
       "      <td>55.000000</td>\n",
       "      <td>64.000000</td>\n",
       "      <td>1.000000</td>\n",
       "      <td>1.000000</td>\n",
       "      <td>1.000000</td>\n",
       "      <td>1.000000</td>\n",
       "      <td>1.000000</td>\n",
       "    </tr>\n",
       "  </tbody>\n",
       "</table>\n",
       "</div>"
      ],
      "text/plain": [
       "       wage_per_hour       union  education_yrs  experience_yrs         age  \\\n",
       "count     534.000000  534.000000     534.000000      534.000000  534.000000   \n",
       "mean        9.024064    0.179775      13.018727       17.822097   36.833333   \n",
       "std         5.139097    0.384360       2.615373       12.379710   11.726573   \n",
       "min         1.000000    0.000000       2.000000        0.000000   18.000000   \n",
       "25%         5.250000    0.000000      12.000000        8.000000   28.000000   \n",
       "50%         7.780000    0.000000      12.000000       15.000000   35.000000   \n",
       "75%        11.250000    0.000000      15.000000       26.000000   44.000000   \n",
       "max        44.500000    1.000000      18.000000       55.000000   64.000000   \n",
       "\n",
       "           female        marr       south  manufacturing  construction  \n",
       "count  534.000000  534.000000  534.000000     534.000000    534.000000  \n",
       "mean     0.458801    0.655431    0.292135       0.185393      0.044944  \n",
       "std      0.498767    0.475673    0.455170       0.388981      0.207375  \n",
       "min      0.000000    0.000000    0.000000       0.000000      0.000000  \n",
       "25%      0.000000    0.000000    0.000000       0.000000      0.000000  \n",
       "50%      0.000000    1.000000    0.000000       0.000000      0.000000  \n",
       "75%      1.000000    1.000000    1.000000       0.000000      0.000000  \n",
       "max      1.000000    1.000000    1.000000       1.000000      1.000000  "
      ]
     },
     "execution_count": 42,
     "metadata": {
      "tags": []
     },
     "output_type": "execute_result"
    }
   ],
   "source": [
    "dataset.describe()"
   ]
  },
  {
   "cell_type": "markdown",
   "metadata": {
    "colab_type": "text",
    "id": "LNW8w6TYq_WP"
   },
   "source": [
    "Split the dataset into inputs and outputs. Here, you want to predict the hourly wage number."
   ]
  },
  {
   "cell_type": "code",
   "execution_count": 10,
   "metadata": {
    "colab": {
     "base_uri": "https://localhost:8080/",
     "height": 119
    },
    "colab_type": "code",
    "id": "DFInqZgCq_WQ",
    "outputId": "22a8ed81-ed5a-4a42-fe5c-0236f9f25cd2"
   },
   "outputs": [
    {
     "data": {
      "text/plain": [
       "0    5.10\n",
       "1    4.95\n",
       "2    6.67\n",
       "3    4.00\n",
       "4    7.50\n",
       "Name: wage_per_hour, dtype: float64"
      ]
     },
     "execution_count": 10,
     "metadata": {
      "tags": []
     },
     "output_type": "execute_result"
    }
   ],
   "source": [
    "predictors = dataset.drop(columns=['wage_per_hour'])\n",
    "target = dataset['wage_per_hour']\n",
    "target.head()"
   ]
  },
  {
   "cell_type": "markdown",
   "metadata": {
    "colab_type": "text",
    "id": "QRrCXRMoq_WR"
   },
   "source": [
    "You have to define the input shape for the first layer in neural network. The shape of the <i>predictors</i> (number of columns in particular) should help you with this."
   ]
  },
  {
   "cell_type": "code",
   "execution_count": 28,
   "metadata": {
    "colab": {
     "base_uri": "https://localhost:8080/",
     "height": 34
    },
    "colab_type": "code",
    "id": "HDjgEnEmq_WS",
    "outputId": "af18316f-d591-4d06-c6b0-f6dea493003c"
   },
   "outputs": [
    {
     "data": {
      "text/plain": [
       "9"
      ]
     },
     "execution_count": 28,
     "metadata": {
      "tags": []
     },
     "output_type": "execute_result"
    }
   ],
   "source": [
    "predictors.shape[1]"
   ]
  },
  {
   "cell_type": "code",
   "execution_count": 0,
   "metadata": {
    "colab": {},
    "colab_type": "code",
    "id": "XoQPapQGq_WV"
   },
   "outputs": [],
   "source": [
    "n_cols = predictors.shape[1]"
   ]
  },
  {
   "cell_type": "markdown",
   "metadata": {
    "colab_type": "text",
    "id": "XT9Qohffq_WX"
   },
   "source": [
    "Build the simple sequential model of NN"
   ]
  },
  {
   "cell_type": "code",
   "execution_count": 0,
   "metadata": {
    "colab": {},
    "colab_type": "code",
    "id": "Uy1hiwNwq_WY"
   },
   "outputs": [],
   "source": [
    "model = Sequential()"
   ]
  },
  {
   "cell_type": "markdown",
   "metadata": {
    "colab_type": "text",
    "id": "Gf0lcd0Sq_Wa"
   },
   "source": [
    "<b>Add</b> the first layer with 50 units (neurons). Give it the activation of <b>relu</b> type and provide it with the <b>input shape</b>"
   ]
  },
  {
   "cell_type": "code",
   "execution_count": 0,
   "metadata": {
    "colab": {},
    "colab_type": "code",
    "id": "5Ybw3RNIq_Wb"
   },
   "outputs": [],
   "source": [
    "model.add(Dense(50, activation = 'relu', input_shape = (n_cols,)))"
   ]
  },
  {
   "cell_type": "markdown",
   "metadata": {
    "colab_type": "text",
    "id": "U6nf3pFwq_Wd"
   },
   "source": [
    "<b>Add</b> the first layer with 32 units. Give it the activation of <b>relu</b> type. Is it necessary to define the input shape? What are your thoughts?"
   ]
  },
  {
   "cell_type": "code",
   "execution_count": 0,
   "metadata": {
    "colab": {},
    "colab_type": "code",
    "id": "QY-Il5wJq_We"
   },
   "outputs": [],
   "source": [
    "model.add(Dense(32, activation = 'relu'))"
   ]
  },
  {
   "cell_type": "markdown",
   "metadata": {
    "colab_type": "text",
    "id": "9W7oIveyq_Wg"
   },
   "source": [
    "<b>Add</b> the output layer. How many units should be here? Recall that you have a regression problem here."
   ]
  },
  {
   "cell_type": "code",
   "execution_count": 0,
   "metadata": {
    "colab": {},
    "colab_type": "code",
    "id": "_XEnpJo4q_Wh"
   },
   "outputs": [],
   "source": [
    "model.add(Dense(1))"
   ]
  },
  {
   "cell_type": "markdown",
   "metadata": {
    "colab_type": "text",
    "id": "b0CYRHnIq_Wj"
   },
   "source": [
    "Check the models summary. The model should contain only dense layers, among them the last one is an output layer."
   ]
  },
  {
   "cell_type": "code",
   "execution_count": 34,
   "metadata": {
    "colab": {
     "base_uri": "https://localhost:8080/",
     "height": 238
    },
    "colab_type": "code",
    "id": "3ZwN4lBeq_Wk",
    "outputId": "534ba8fc-5eaa-4514-cb50-5f34a3ac2d87"
   },
   "outputs": [
    {
     "name": "stdout",
     "output_type": "stream",
     "text": [
      "_________________________________________________________________\n",
      "Layer (type)                 Output Shape              Param #   \n",
      "=================================================================\n",
      "dense_5 (Dense)              (None, 50)                500       \n",
      "_________________________________________________________________\n",
      "dense_6 (Dense)              (None, 32)                1632      \n",
      "_________________________________________________________________\n",
      "dense_7 (Dense)              (None, 1)                 33        \n",
      "=================================================================\n",
      "Total params: 2,165\n",
      "Trainable params: 2,165\n",
      "Non-trainable params: 0\n",
      "_________________________________________________________________\n"
     ]
    }
   ],
   "source": [
    "model.summary()"
   ]
  },
  {
   "cell_type": "markdown",
   "metadata": {
    "colab_type": "text",
    "id": "FtziQLeUq_Wm"
   },
   "source": [
    "You're now going to compile the model you specified earlier. To compile the model, you need to specify the optimizer and loss function to use.\n",
    "\n",
    "The Adam optimizer is an excellent choice. You can read more about it as well as other keras optimizers <a href=\"https://keras.io/optimizers/#adam\">here</a>, and if you are really curious to learn more, you can read the original <a href=\"https://arxiv.org/abs/1412.6980v8\">paper</a> that introduced the Adam optimizer.\n",
    "\n",
    "In this exercise, you'll use the Adam optimizer and the mean squared error loss function."
   ]
  },
  {
   "cell_type": "code",
   "execution_count": 0,
   "metadata": {
    "colab": {},
    "colab_type": "code",
    "id": "x5-_JkQIq_Wm"
   },
   "outputs": [],
   "source": [
    "model.compile(optimizer='adam', loss='mean_squared_error', metrics = ['accuracy'])"
   ]
  },
  {
   "cell_type": "markdown",
   "metadata": {
    "colab_type": "text",
    "id": "p_tsmv-pq_Wr"
   },
   "source": [
    "You'll now fit the model. Recall that the data to be used as predictive features is loaded in a NumPy matrix called predictors and the data to be predicted is stored in a NumPy matrix called target.\n",
    "\n",
    "You can specify the number of epochs. By default it is ten."
   ]
  },
  {
   "cell_type": "code",
   "execution_count": 37,
   "metadata": {
    "colab": {
     "base_uri": "https://localhost:8080/",
     "height": 714
    },
    "colab_type": "code",
    "id": "rCihRr1bq_Ws",
    "outputId": "7fe31d60-d5bc-45bb-9cb7-6dfcf962f998"
   },
   "outputs": [
    {
     "name": "stdout",
     "output_type": "stream",
     "text": [
      "Epoch 1/20\n",
      "534/534 [==============================] - 0s 54us/step - loss: 21.3127 - acc: 0.0337\n",
      "Epoch 2/20\n",
      "534/534 [==============================] - 0s 39us/step - loss: 21.2999 - acc: 0.0393\n",
      "Epoch 3/20\n",
      "534/534 [==============================] - 0s 38us/step - loss: 21.0644 - acc: 0.0281\n",
      "Epoch 4/20\n",
      "534/534 [==============================] - 0s 40us/step - loss: 20.6834 - acc: 0.0375\n",
      "Epoch 5/20\n",
      "534/534 [==============================] - 0s 40us/step - loss: 20.7392 - acc: 0.0375\n",
      "Epoch 6/20\n",
      "534/534 [==============================] - 0s 44us/step - loss: 21.3212 - acc: 0.0356\n",
      "Epoch 7/20\n",
      "534/534 [==============================] - 0s 41us/step - loss: 20.8618 - acc: 0.0243\n",
      "Epoch 8/20\n",
      "534/534 [==============================] - 0s 44us/step - loss: 20.3506 - acc: 0.0337\n",
      "Epoch 9/20\n",
      "534/534 [==============================] - 0s 42us/step - loss: 20.3000 - acc: 0.0375\n",
      "Epoch 10/20\n",
      "534/534 [==============================] - 0s 44us/step - loss: 20.2325 - acc: 0.0356\n",
      "Epoch 11/20\n",
      "534/534 [==============================] - 0s 46us/step - loss: 20.3897 - acc: 0.0300\n",
      "Epoch 12/20\n",
      "534/534 [==============================] - 0s 42us/step - loss: 20.0795 - acc: 0.0356\n",
      "Epoch 13/20\n",
      "534/534 [==============================] - 0s 40us/step - loss: 20.4173 - acc: 0.0375\n",
      "Epoch 14/20\n",
      "534/534 [==============================] - 0s 38us/step - loss: 20.1181 - acc: 0.0393\n",
      "Epoch 15/20\n",
      "534/534 [==============================] - 0s 39us/step - loss: 20.2467 - acc: 0.0300\n",
      "Epoch 16/20\n",
      "534/534 [==============================] - 0s 43us/step - loss: 19.8735 - acc: 0.0225\n",
      "Epoch 17/20\n",
      "534/534 [==============================] - 0s 42us/step - loss: 19.7175 - acc: 0.0337\n",
      "Epoch 18/20\n",
      "534/534 [==============================] - 0s 42us/step - loss: 19.6053 - acc: 0.0300\n",
      "Epoch 19/20\n",
      "534/534 [==============================] - 0s 45us/step - loss: 19.9903 - acc: 0.0300\n",
      "Epoch 20/20\n",
      "534/534 [==============================] - 0s 39us/step - loss: 19.8300 - acc: 0.0243\n"
     ]
    },
    {
     "data": {
      "text/plain": [
       "<keras.callbacks.History at 0x7f85619e6550>"
      ]
     },
     "execution_count": 37,
     "metadata": {
      "tags": []
     },
     "output_type": "execute_result"
    }
   ],
   "source": [
    "model.fit(predictors, target, epochs=20)"
   ]
  },
  {
   "cell_type": "markdown",
   "metadata": {
    "colab_type": "text",
    "id": "eNMEJUotq_Ww"
   },
   "source": [
    "Now you can either predict the values feeding into the <i>predict</i> method your <i>predictors</i> array, OR you can go back to the beginning and split the dataset into train and test. Then you can test it on the test set"
   ]
  },
  {
   "cell_type": "code",
   "execution_count": 0,
   "metadata": {
    "colab": {},
    "colab_type": "code",
    "id": "RPWOanvRq_Ww"
   },
   "outputs": [],
   "source": [
    "y_preds = model.predict(predictors)"
   ]
  },
  {
   "cell_type": "markdown",
   "metadata": {
    "colab_type": "text",
    "id": "Rr4ZNQJmq_Wy"
   },
   "source": [
    "You can check the predicted values and difference between actual ones"
   ]
  },
  {
   "cell_type": "code",
   "execution_count": 39,
   "metadata": {
    "colab": {
     "base_uri": "https://localhost:8080/",
     "height": 9095
    },
    "colab_type": "code",
    "id": "8Y1ZnL74q_Wz",
    "outputId": "47b45933-d9e7-422f-e744-52252403449e"
   },
   "outputs": [
    {
     "name": "stdout",
     "output_type": "stream",
     "text": [
      "true  5.1  pred  [6.650491]  diff  [-1.5504913]\n",
      "true  4.95  pred  [7.568009]  diff  [-2.618009]\n",
      "true  6.67  pred  [7.2951193]  diff  [-0.6251192]\n",
      "true  4.0  pred  [7.8989186]  diff  [-3.8989186]\n",
      "true  7.5  pred  [10.101671]  diff  [-2.6016712]\n",
      "true  13.07  pred  [10.764593]  diff  [2.3054066]\n",
      "true  4.45  pred  [8.236111]  diff  [-3.7861109]\n",
      "true  19.47  pred  [9.115704]  diff  [10.354296]\n",
      "true  13.28  pred  [12.104703]  diff  [1.1752968]\n",
      "true  8.75  pred  [9.115704]  diff  [-0.36570358]\n",
      "true  11.35  pred  [11.283351]  diff  [0.06664944]\n",
      "true  11.5  pred  [11.784107]  diff  [-0.2841072]\n",
      "true  6.5  pred  [6.8639336]  diff  [-0.36393356]\n",
      "true  6.25  pred  [8.667067]  diff  [-2.4170666]\n",
      "true  19.98  pred  [7.62041]  diff  [12.35959]\n",
      "true  7.3  pred  [10.407075]  diff  [-3.1070747]\n",
      "true  8.0  pred  [6.5009418]  diff  [1.4990582]\n",
      "true  22.2  pred  [11.950312]  diff  [10.249689]\n",
      "true  3.65  pred  [9.29683]  diff  [-5.64683]\n",
      "true  20.55  pred  [10.354056]  diff  [10.195943]\n",
      "true  5.71  pred  [10.628984]  diff  [-4.9189844]\n",
      "true  7.0  pred  [8.388302]  diff  [-1.3883018]\n",
      "true  3.75  pred  [9.115704]  diff  [-5.3657036]\n",
      "true  4.5  pred  [8.773418]  diff  [-4.2734184]\n",
      "true  9.56  pred  [10.2693]  diff  [-0.70930004]\n",
      "true  5.75  pred  [6.609427]  diff  [-0.859427]\n",
      "true  9.36  pred  [9.35538]  diff  [0.0046196]\n",
      "true  6.5  pred  [8.84958]  diff  [-2.3495798]\n",
      "true  3.35  pred  [8.158291]  diff  [-4.808291]\n",
      "true  4.75  pred  [8.922061]  diff  [-4.172061]\n",
      "true  8.9  pred  [11.124684]  diff  [-2.2246847]\n",
      "true  4.0  pred  [8.7219095]  diff  [-4.7219095]\n",
      "true  4.7  pred  [7.2772965]  diff  [-2.5772967]\n",
      "true  5.0  pred  [8.174101]  diff  [-3.1741009]\n",
      "true  9.25  pred  [10.620851]  diff  [-1.3708506]\n",
      "true  10.67  pred  [10.27261]  diff  [0.39739037]\n",
      "true  7.61  pred  [9.70632]  diff  [-2.0963197]\n",
      "true  10.0  pred  [11.535177]  diff  [-1.5351772]\n",
      "true  7.5  pred  [7.658819]  diff  [-0.1588192]\n",
      "true  12.2  pred  [10.161818]  diff  [2.0381823]\n",
      "true  3.35  pred  [6.790258]  diff  [-3.440258]\n",
      "true  11.0  pred  [12.265759]  diff  [-1.2657595]\n",
      "true  12.0  pred  [10.533561]  diff  [1.4664392]\n",
      "true  4.85  pred  [7.3373713]  diff  [-2.4873714]\n",
      "true  4.3  pred  [8.82184]  diff  [-4.52184]\n",
      "true  6.0  pred  [5.3687444]  diff  [0.6312556]\n",
      "true  15.0  pred  [12.38957]  diff  [2.6104298]\n",
      "true  4.85  pred  [7.9493127]  diff  [-3.0993128]\n",
      "true  9.0  pred  [8.541014]  diff  [0.45898628]\n",
      "true  6.36  pred  [9.599183]  diff  [-3.239183]\n",
      "true  9.15  pred  [8.678258]  diff  [0.47174168]\n",
      "true  11.0  pred  [13.597841]  diff  [-2.5978413]\n",
      "true  4.5  pred  [7.9144864]  diff  [-3.4144864]\n",
      "true  4.8  pred  [9.447307]  diff  [-4.6473064]\n",
      "true  4.0  pred  [7.2479825]  diff  [-3.2479825]\n",
      "true  5.5  pred  [8.83954]  diff  [-3.3395395]\n",
      "true  8.4  pred  [11.261223]  diff  [-2.8612232]\n",
      "true  6.75  pred  [9.0954685]  diff  [-2.3454685]\n",
      "true  10.0  pred  [11.809534]  diff  [-1.8095341]\n",
      "true  5.0  pred  [9.667922]  diff  [-4.667922]\n",
      "true  6.5  pred  [9.328302]  diff  [-2.8283024]\n",
      "true  10.75  pred  [11.441944]  diff  [-0.6919441]\n",
      "true  7.0  pred  [7.043784]  diff  [-0.04378414]\n",
      "true  11.43  pred  [7.0574546]  diff  [4.3725457]\n",
      "true  4.0  pred  [9.862085]  diff  [-5.8620853]\n",
      "true  9.0  pred  [8.843267]  diff  [0.15673256]\n",
      "true  13.0  pred  [11.342052]  diff  [1.6579475]\n",
      "true  12.22  pred  [11.387064]  diff  [0.8329363]\n",
      "true  6.28  pred  [9.752679]  diff  [-3.4726787]\n",
      "true  6.75  pred  [10.1172285]  diff  [-3.3672285]\n",
      "true  3.35  pred  [6.800197]  diff  [-3.4501972]\n",
      "true  16.0  pred  [12.784382]  diff  [3.2156181]\n",
      "true  5.25  pred  [8.632111]  diff  [-3.3821106]\n",
      "true  3.5  pred  [6.5729084]  diff  [-3.0729084]\n",
      "true  4.22  pred  [6.415089]  diff  [-2.1950893]\n",
      "true  3.0  pred  [6.6269307]  diff  [-3.6269307]\n",
      "true  4.0  pred  [9.566856]  diff  [-5.5668564]\n",
      "true  10.0  pred  [10.806568]  diff  [-0.80656815]\n",
      "true  5.0  pred  [9.86494]  diff  [-4.8649397]\n",
      "true  16.0  pred  [11.545423]  diff  [4.4545774]\n",
      "true  13.98  pred  [11.26353]  diff  [2.7164698]\n",
      "true  13.26  pred  [11.251881]  diff  [2.0081196]\n",
      "true  6.1  pred  [9.362665]  diff  [-3.2626653]\n",
      "true  3.75  pred  [10.246426]  diff  [-6.4964256]\n",
      "true  9.0  pred  [10.885709]  diff  [-1.8857088]\n",
      "true  9.45  pred  [10.407858]  diff  [-0.9578581]\n",
      "true  5.5  pred  [10.611509]  diff  [-5.1115093]\n",
      "true  8.93  pred  [8.983946]  diff  [-0.05394554]\n",
      "true  6.25  pred  [6.4901953]  diff  [-0.24019527]\n",
      "true  9.75  pred  [10.822851]  diff  [-1.0728512]\n",
      "true  6.73  pred  [6.8563623]  diff  [-0.12636232]\n",
      "true  7.78  pred  [10.779829]  diff  [-2.9998288]\n",
      "true  2.85  pred  [6.989131]  diff  [-4.139131]\n",
      "true  3.35  pred  [7.930959]  diff  [-4.5809593]\n",
      "true  19.98  pred  [10.779829]  diff  [9.2001705]\n",
      "true  8.5  pred  [9.951969]  diff  [-1.4519691]\n",
      "true  9.75  pred  [9.952744]  diff  [-0.20274353]\n",
      "true  15.0  pred  [11.518226]  diff  [3.4817743]\n",
      "true  8.0  pred  [9.541714]  diff  [-1.5417137]\n",
      "true  11.25  pred  [10.710574]  diff  [0.53942585]\n",
      "true  14.0  pred  [10.454161]  diff  [3.5458393]\n",
      "true  10.0  pred  [8.578476]  diff  [1.421524]\n",
      "true  6.5  pred  [8.871899]  diff  [-2.3718987]\n",
      "true  9.83  pred  [10.779829]  diff  [-0.9498291]\n",
      "true  18.5  pred  [10.356216]  diff  [8.143784]\n",
      "true  12.5  pred  [8.450929]  diff  [4.0490713]\n",
      "true  26.0  pred  [12.815849]  diff  [13.184151]\n",
      "true  14.0  pred  [5.9738193]  diff  [8.02618]\n",
      "true  10.5  pred  [8.809037]  diff  [1.6909628]\n",
      "true  11.0  pred  [7.9827695]  diff  [3.0172305]\n",
      "true  12.47  pred  [10.975592]  diff  [1.4944086]\n",
      "true  12.5  pred  [9.71813]  diff  [2.78187]\n",
      "true  15.0  pred  [11.577554]  diff  [3.4224463]\n",
      "true  6.0  pred  [9.019895]  diff  [-3.0198946]\n",
      "true  9.5  pred  [9.118572]  diff  [0.38142776]\n",
      "true  5.0  pred  [10.260607]  diff  [-5.260607]\n",
      "true  3.75  pred  [9.14127]  diff  [-5.3912697]\n",
      "true  12.57  pred  [11.05]  diff  [1.5199995]\n",
      "true  6.88  pred  [6.148439]  diff  [0.7315612]\n",
      "true  5.5  pred  [9.86494]  diff  [-4.3649397]\n",
      "true  7.0  pred  [9.667104]  diff  [-2.6671038]\n",
      "true  4.5  pred  [9.343573]  diff  [-4.8435726]\n",
      "true  6.5  pred  [10.311678]  diff  [-3.811678]\n",
      "true  12.0  pred  [11.373524]  diff  [0.6264763]\n",
      "true  5.0  pred  [7.817351]  diff  [-2.8173509]\n",
      "true  6.5  pred  [7.8588696]  diff  [-1.3588696]\n",
      "true  6.8  pred  [6.9851294]  diff  [-0.18512917]\n",
      "true  8.75  pred  [10.8364525]  diff  [-2.0864525]\n",
      "true  3.75  pred  [6.9557457]  diff  [-3.2057457]\n",
      "true  4.5  pred  [9.46961]  diff  [-4.96961]\n",
      "true  6.0  pred  [7.280359]  diff  [-1.2803588]\n",
      "true  5.5  pred  [8.030832]  diff  [-2.5308323]\n",
      "true  13.0  pred  [8.922061]  diff  [4.077939]\n",
      "true  5.65  pred  [8.504834]  diff  [-2.854834]\n",
      "true  4.8  pred  [8.39505]  diff  [-3.5950499]\n",
      "true  7.0  pred  [7.5651574]  diff  [-0.5651574]\n",
      "true  5.25  pred  [7.3231463]  diff  [-2.0731463]\n",
      "true  3.35  pred  [6.9129186]  diff  [-3.5629187]\n",
      "true  8.5  pred  [8.688392]  diff  [-0.18839169]\n",
      "true  6.0  pred  [9.165864]  diff  [-3.165864]\n",
      "true  6.75  pred  [9.157579]  diff  [-2.4075794]\n",
      "true  8.89  pred  [10.65944]  diff  [-1.7694397]\n",
      "true  14.21  pred  [10.97334]  diff  [3.23666]\n",
      "true  10.78  pred  [10.255154]  diff  [0.5248461]\n",
      "true  8.9  pred  [9.507153]  diff  [-0.60715294]\n",
      "true  7.5  pred  [9.915268]  diff  [-2.415268]\n",
      "true  4.5  pred  [6.8941445]  diff  [-2.3941445]\n",
      "true  11.25  pred  [11.566918]  diff  [-0.31691837]\n",
      "true  13.45  pred  [10.721348]  diff  [2.728652]\n",
      "true  6.0  pred  [8.8944]  diff  [-2.8943996]\n",
      "true  4.62  pred  [5.1250978]  diff  [-0.50509787]\n",
      "true  10.58  pred  [12.27583]  diff  [-1.6958303]\n",
      "true  5.0  pred  [7.4677296]  diff  [-2.4677296]\n",
      "true  8.2  pred  [10.907702]  diff  [-2.7077026]\n",
      "true  6.25  pred  [6.469882]  diff  [-0.21988201]\n",
      "true  8.5  pred  [10.496712]  diff  [-1.9967117]\n",
      "true  24.98  pred  [12.946387]  diff  [12.033612]\n",
      "true  16.65  pred  [11.103638]  diff  [5.546362]\n",
      "true  6.25  pred  [8.195304]  diff  [-1.9453039]\n",
      "true  4.55  pred  [6.130587]  diff  [-1.5805869]\n",
      "true  11.25  pred  [8.693175]  diff  [2.5568247]\n",
      "true  21.25  pred  [10.978231]  diff  [10.271769]\n",
      "true  12.65  pred  [11.528406]  diff  [1.1215935]\n",
      "true  7.5  pred  [10.031612]  diff  [-2.5316124]\n",
      "true  10.25  pred  [10.61949]  diff  [-0.36948967]\n",
      "true  3.35  pred  [11.183236]  diff  [-7.833236]\n",
      "true  13.45  pred  [10.917993]  diff  [2.5320072]\n",
      "true  4.84  pred  [8.999099]  diff  [-4.1590986]\n",
      "true  26.29  pred  [13.559736]  diff  [12.730265]\n",
      "true  6.58  pred  [9.12349]  diff  [-2.5434904]\n",
      "true  44.5  pred  [7.261245]  diff  [37.238754]\n",
      "true  15.0  pred  [10.940867]  diff  [4.0591326]\n",
      "true  11.25  pred  [8.894397]  diff  [2.3556032]\n",
      "true  7.0  pred  [9.191296]  diff  [-2.1912956]\n",
      "true  10.0  pred  [11.595582]  diff  [-1.595582]\n",
      "true  14.53  pred  [12.946387]  diff  [1.5836124]\n",
      "true  20.0  pred  [13.155524]  diff  [6.8444757]\n",
      "true  22.5  pred  [11.447927]  diff  [11.052073]\n",
      "true  3.64  pred  [9.276052]  diff  [-5.636052]\n",
      "true  10.62  pred  [9.881363]  diff  [0.738637]\n",
      "true  24.98  pred  [14.699173]  diff  [10.280827]\n",
      "true  6.0  pred  [10.208822]  diff  [-4.2088223]\n",
      "true  19.0  pred  [13.625537]  diff  [5.374463]\n",
      "true  13.2  pred  [11.42704]  diff  [1.7729597]\n",
      "true  22.5  pred  [13.072265]  diff  [9.427735]\n",
      "true  15.0  pred  [10.704686]  diff  [4.295314]\n",
      "true  6.88  pred  [12.016014]  diff  [-5.136014]\n",
      "true  11.84  pred  [10.294727]  diff  [1.5452728]\n",
      "true  16.14  pred  [11.406767]  diff  [4.7332325]\n",
      "true  13.95  pred  [12.289094]  diff  [1.6609058]\n",
      "true  13.16  pred  [9.242149]  diff  [3.9178505]\n",
      "true  5.3  pred  [9.41815]  diff  [-4.1181498]\n",
      "true  4.5  pred  [7.4811664]  diff  [-2.9811664]\n",
      "true  10.0  pred  [11.28019]  diff  [-1.2801905]\n",
      "true  10.0  pred  [8.764823]  diff  [1.235177]\n",
      "true  10.0  pred  [11.482664]  diff  [-1.4826641]\n",
      "true  9.37  pred  [12.048946]  diff  [-2.6789465]\n",
      "true  5.8  pred  [12.452415]  diff  [-6.6524153]\n",
      "true  17.86  pred  [11.0121355]  diff  [6.847865]\n",
      "true  1.0  pred  [10.277775]  diff  [-9.277775]\n",
      "true  8.8  pred  [11.419744]  diff  [-2.6197433]\n",
      "true  9.0  pred  [10.5592575]  diff  [-1.5592575]\n",
      "true  18.16  pred  [12.204199]  diff  [5.955801]\n",
      "true  7.81  pred  [5.6065197]  diff  [2.2034802]\n",
      "true  10.62  pred  [9.685603]  diff  [0.93439674]\n",
      "true  4.5  pred  [6.5509133]  diff  [-2.0509133]\n",
      "true  17.25  pred  [12.55568]  diff  [4.6943197]\n",
      "true  10.5  pred  [9.961224]  diff  [0.5387764]\n",
      "true  9.22  pred  [9.951268]  diff  [-0.7312679]\n",
      "true  15.0  pred  [14.906118]  diff  [0.09388161]\n",
      "true  22.5  pred  [13.461099]  diff  [9.038901]\n",
      "true  4.55  pred  [9.939295]  diff  [-5.3892946]\n",
      "true  9.0  pred  [10.070201]  diff  [-1.0702009]\n",
      "true  13.33  pred  [12.321638]  diff  [1.0083618]\n",
      "true  15.0  pred  [11.595582]  diff  [3.404418]\n",
      "true  7.5  pred  [8.195304]  diff  [-0.6953039]\n",
      "true  4.25  pred  [8.684699]  diff  [-4.434699]\n",
      "true  12.5  pred  [10.949342]  diff  [1.5506582]\n",
      "true  5.13  pred  [6.993561]  diff  [-1.8635607]\n",
      "true  3.35  pred  [10.540389]  diff  [-7.190389]\n",
      "true  11.11  pred  [9.83051]  diff  [1.2794895]\n",
      "true  3.84  pred  [7.911269]  diff  [-4.071269]\n",
      "true  6.4  pred  [9.301479]  diff  [-2.9014792]\n",
      "true  5.56  pred  [8.45117]  diff  [-2.89117]\n",
      "true  10.0  pred  [10.191845]  diff  [-0.19184494]\n",
      "true  5.65  pred  [9.281288]  diff  [-3.631288]\n",
      "true  11.5  pred  [12.8398285]  diff  [-1.3398285]\n",
      "true  3.5  pred  [8.460247]  diff  [-4.960247]\n",
      "true  3.35  pred  [6.299628]  diff  [-2.9496279]\n",
      "true  4.75  pred  [7.447479]  diff  [-2.6974788]\n",
      "true  19.98  pred  [11.44517]  diff  [8.534829]\n",
      "true  3.5  pred  [7.578169]  diff  [-4.078169]\n",
      "true  4.0  pred  [8.81926]  diff  [-4.8192596]\n",
      "true  7.0  pred  [8.17421]  diff  [-1.1742096]\n",
      "true  6.25  pred  [7.7038035]  diff  [-1.4538035]\n",
      "true  4.5  pred  [11.352384]  diff  [-6.8523836]\n",
      "true  14.29  pred  [10.670345]  diff  [3.6196547]\n",
      "true  5.0  pred  [8.800652]  diff  [-3.8006516]\n",
      "true  13.75  pred  [11.634172]  diff  [2.1158276]\n",
      "true  13.71  pred  [11.583867]  diff  [2.126133]\n",
      "true  7.5  pred  [8.667746]  diff  [-1.1677456]\n",
      "true  3.8  pred  [6.733914]  diff  [-2.933914]\n",
      "true  5.0  pred  [7.705527]  diff  [-2.7055268]\n",
      "true  9.42  pred  [9.864412]  diff  [-0.44441223]\n",
      "true  5.5  pred  [10.196079]  diff  [-4.6960793]\n",
      "true  3.75  pred  [8.613338]  diff  [-4.8633385]\n",
      "true  3.5  pred  [10.362533]  diff  [-6.8625326]\n",
      "true  5.8  pred  [8.657508]  diff  [-2.8575077]\n",
      "true  12.0  pred  [13.128326]  diff  [-1.1283264]\n",
      "true  5.0  pred  [10.359098]  diff  [-5.3590984]\n",
      "true  8.75  pred  [8.014525]  diff  [0.7354746]\n",
      "true  10.0  pred  [9.548702]  diff  [0.45129776]\n",
      "true  8.5  pred  [9.025091]  diff  [-0.5250912]\n",
      "true  8.63  pred  [8.983946]  diff  [-0.35394573]\n",
      "true  9.0  pred  [12.606714]  diff  [-3.6067142]\n",
      "true  5.5  pred  [8.415705]  diff  [-2.9157047]\n",
      "true  11.11  pred  [10.608662]  diff  [0.501338]\n",
      "true  10.0  pred  [10.495666]  diff  [-0.49566555]\n",
      "true  5.2  pred  [11.330353]  diff  [-6.130353]\n",
      "true  8.0  pred  [11.386317]  diff  [-3.3863173]\n",
      "true  3.56  pred  [7.8351645]  diff  [-4.2751646]\n",
      "true  5.2  pred  [9.12349]  diff  [-3.9234905]\n",
      "true  11.67  pred  [9.303642]  diff  [2.3663578]\n",
      "true  11.32  pred  [9.217502]  diff  [2.102498]\n",
      "true  7.5  pred  [8.353863]  diff  [-0.85386276]\n",
      "true  5.5  pred  [8.383965]  diff  [-2.8839645]\n",
      "true  5.0  pred  [8.144807]  diff  [-3.1448069]\n",
      "true  7.75  pred  [9.12349]  diff  [-1.3734903]\n",
      "true  5.25  pred  [9.301479]  diff  [-4.0514793]\n",
      "true  9.0  pred  [11.377759]  diff  [-2.377759]\n",
      "true  9.65  pred  [9.242149]  diff  [0.40785027]\n",
      "true  5.21  pred  [11.612467]  diff  [-6.402467]\n",
      "true  7.0  pred  [8.217695]  diff  [-1.2176952]\n",
      "true  12.16  pred  [8.710124]  diff  [3.4498758]\n",
      "true  5.25  pred  [7.900314]  diff  [-2.6503139]\n",
      "true  10.32  pred  [9.308873]  diff  [1.0111265]\n",
      "true  3.35  pred  [9.398344]  diff  [-6.048344]\n",
      "true  7.7  pred  [9.377888]  diff  [-1.6778879]\n",
      "true  9.17  pred  [9.803535]  diff  [-0.6335354]\n",
      "true  8.43  pred  [9.157579]  diff  [-0.7275791]\n",
      "true  4.0  pred  [8.207124]  diff  [-4.2071238]\n",
      "true  4.13  pred  [6.7533646]  diff  [-2.6233644]\n",
      "true  3.0  pred  [8.676224]  diff  [-5.6762238]\n",
      "true  4.25  pred  [5.9591565]  diff  [-1.7091565]\n",
      "true  7.53  pred  [7.411451]  diff  [0.11854935]\n",
      "true  10.53  pred  [10.167272]  diff  [0.36272812]\n",
      "true  5.0  pred  [9.250626]  diff  [-4.2506256]\n",
      "true  15.03  pred  [9.12349]  diff  [5.9065094]\n",
      "true  11.25  pred  [12.888918]  diff  [-1.6389179]\n",
      "true  6.25  pred  [9.734583]  diff  [-3.484583]\n",
      "true  3.5  pred  [9.025091]  diff  [-5.525091]\n",
      "true  6.85  pred  [8.871899]  diff  [-2.0218987]\n",
      "true  12.5  pred  [9.624318]  diff  [2.8756819]\n",
      "true  12.0  pred  [7.4264684]  diff  [4.5735316]\n",
      "true  6.0  pred  [10.969757]  diff  [-4.969757]\n",
      "true  9.5  pred  [9.025091]  diff  [0.47490883]\n",
      "true  4.1  pred  [8.889538]  diff  [-4.789538]\n",
      "true  10.43  pred  [9.518925]  diff  [0.9110756]\n",
      "true  5.0  pred  [6.0377555]  diff  [-1.0377555]\n",
      "true  7.69  pred  [10.16461]  diff  [-2.4746099]\n",
      "true  5.5  pred  [8.991187]  diff  [-3.491187]\n",
      "true  6.4  pred  [7.1872015]  diff  [-0.7872014]\n",
      "true  12.5  pred  [10.039747]  diff  [2.4602528]\n",
      "true  6.25  pred  [9.913868]  diff  [-3.663868]\n",
      "true  8.0  pred  [7.674809]  diff  [0.32519102]\n",
      "true  9.6  pred  [9.173663]  diff  [0.42633724]\n",
      "true  9.1  pred  [10.703455]  diff  [-1.6034546]\n",
      "true  7.5  pred  [8.446293]  diff  [-0.9462929]\n",
      "true  5.0  pred  [7.039504]  diff  [-2.039504]\n",
      "true  7.0  pred  [9.398772]  diff  [-2.3987722]\n",
      "true  3.55  pred  [6.1505895]  diff  [-2.6005895]\n",
      "true  8.5  pred  [6.6657205]  diff  [1.8342795]\n",
      "true  4.5  pred  [5.9591565]  diff  [-1.4591565]\n",
      "true  7.88  pred  [12.914917]  diff  [-5.034917]\n",
      "true  5.25  pred  [7.674809]  diff  [-2.424809]\n",
      "true  5.0  pred  [7.1866703]  diff  [-2.1866703]\n",
      "true  9.33  pred  [8.81926]  diff  [0.5107403]\n",
      "true  10.5  pred  [9.165867]  diff  [1.3341331]\n",
      "true  7.5  pred  [8.610759]  diff  [-1.1107588]\n",
      "true  9.5  pred  [8.769456]  diff  [0.7305441]\n",
      "true  9.6  pred  [8.138941]  diff  [1.4610596]\n",
      "true  5.87  pred  [9.228365]  diff  [-3.358365]\n",
      "true  11.02  pred  [11.290046]  diff  [-0.27004528]\n",
      "true  5.0  pred  [8.552396]  diff  [-3.5523958]\n",
      "true  5.62  pred  [10.670345]  diff  [-5.0503454]\n",
      "true  12.5  pred  [8.7893305]  diff  [3.7106695]\n",
      "true  10.81  pred  [9.2591]  diff  [1.5509005]\n",
      "true  5.4  pred  [9.510244]  diff  [-4.1102443]\n",
      "true  7.0  pred  [7.8606157]  diff  [-0.86061573]\n",
      "true  4.59  pred  [8.763144]  diff  [-4.1731434]\n",
      "true  6.0  pred  [9.015415]  diff  [-3.0154152]\n",
      "true  11.71  pred  [12.637805]  diff  [-0.92780495]\n",
      "true  5.62  pred  [6.814274]  diff  [-1.194274]\n",
      "true  5.5  pred  [9.199771]  diff  [-3.699771]\n",
      "true  4.85  pred  [8.138941]  diff  [-3.288941]\n",
      "true  6.75  pred  [10.15395]  diff  [-3.4039497]\n",
      "true  4.25  pred  [9.0468855]  diff  [-4.7968855]\n",
      "true  5.75  pred  [8.889538]  diff  [-3.1395378]\n",
      "true  3.5  pred  [10.371008]  diff  [-6.871008]\n",
      "true  3.35  pred  [7.4811664]  diff  [-4.1311665]\n",
      "true  10.62  pred  [9.705133]  diff  [0.91486645]\n",
      "true  8.0  pred  [7.918612]  diff  [0.081388]\n",
      "true  4.75  pred  [5.764176]  diff  [-1.0141759]\n",
      "true  8.5  pred  [9.218316]  diff  [-0.7183161]\n",
      "true  8.85  pred  [11.603716]  diff  [-2.7537155]\n",
      "true  8.0  pred  [8.138941]  diff  [-0.13894081]\n",
      "true  6.0  pred  [6.8601456]  diff  [-0.86014557]\n",
      "true  7.14  pred  [11.508293]  diff  [-4.3682933]\n",
      "true  3.4  pred  [6.2077684]  diff  [-2.8077683]\n",
      "true  6.0  pred  [10.745042]  diff  [-4.745042]\n",
      "true  3.75  pred  [2.8779979]  diff  [0.8720021]\n",
      "true  8.89  pred  [6.1008935]  diff  [2.7891068]\n",
      "true  4.35  pred  [8.343573]  diff  [-3.9935727]\n",
      "true  13.1  pred  [7.2819285]  diff  [5.818072]\n",
      "true  4.35  pred  [5.8746285]  diff  [-1.5246286]\n",
      "true  3.5  pred  [8.1557455]  diff  [-4.6557455]\n",
      "true  3.8  pred  [8.850949]  diff  [-5.050949]\n",
      "true  5.26  pred  [6.2840505]  diff  [-1.0240502]\n",
      "true  3.35  pred  [7.705527]  diff  [-4.355527]\n",
      "true  16.26  pred  [11.118885]  diff  [5.141115]\n",
      "true  4.25  pred  [6.309865]  diff  [-2.059865]\n",
      "true  4.5  pred  [13.040795]  diff  [-8.540795]\n",
      "true  8.0  pred  [9.544375]  diff  [-1.5443754]\n",
      "true  4.0  pred  [11.7900715]  diff  [-7.7900715]\n",
      "true  7.96  pred  [9.7339525]  diff  [-1.7739525]\n",
      "true  4.0  pred  [7.9131565]  diff  [-3.9131565]\n",
      "true  4.15  pred  [7.432308]  diff  [-3.282308]\n",
      "true  5.95  pred  [8.967812]  diff  [-3.0178118]\n",
      "true  3.6  pred  [8.803359]  diff  [-5.203359]\n",
      "true  8.75  pred  [8.157396]  diff  [0.5926037]\n",
      "true  3.4  pred  [6.9087787]  diff  [-3.5087786]\n",
      "true  4.28  pred  [9.242149]  diff  [-4.962149]\n",
      "true  5.35  pred  [8.693192]  diff  [-3.3431916]\n",
      "true  5.0  pred  [8.800652]  diff  [-3.8006516]\n",
      "true  7.65  pred  [10.126022]  diff  [-2.4760222]\n",
      "true  6.94  pred  [7.431005]  diff  [-0.49100494]\n",
      "true  7.5  pred  [9.588287]  diff  [-2.0882874]\n",
      "true  3.6  pred  [7.1872015]  diff  [-3.5872016]\n",
      "true  1.75  pred  [6.3034697]  diff  [-4.5534697]\n",
      "true  3.45  pred  [6.1505895]  diff  [-2.7005894]\n",
      "true  9.63  pred  [12.847321]  diff  [-3.2173204]\n",
      "true  8.49  pred  [9.12349]  diff  [-0.63349056]\n",
      "true  8.99  pred  [10.001159]  diff  [-1.011159]\n",
      "true  3.65  pred  [6.493151]  diff  [-2.843151]\n",
      "true  3.5  pred  [7.7186294]  diff  [-4.2186294]\n",
      "true  3.43  pred  [6.6657205]  diff  [-3.2357204]\n",
      "true  5.5  pred  [9.665546]  diff  [-4.1655464]\n",
      "true  6.93  pred  [11.439783]  diff  [-4.5097833]\n",
      "true  3.51  pred  [7.273456]  diff  [-3.763456]\n",
      "true  3.75  pred  [9.160704]  diff  [-5.4107037]\n",
      "true  4.17  pred  [9.148915]  diff  [-4.978915]\n",
      "true  9.57  pred  [8.1010475]  diff  [1.4689522]\n",
      "true  14.67  pred  [11.476825]  diff  [3.1931753]\n",
      "true  12.5  pred  [10.422038]  diff  [2.077962]\n",
      "true  5.5  pred  [9.409669]  diff  [-3.909669]\n",
      "true  5.15  pred  [7.7508674]  diff  [-2.6008673]\n",
      "true  8.0  pred  [10.4295845]  diff  [-2.4295845]\n",
      "true  5.83  pred  [8.106451]  diff  [-2.276451]\n",
      "true  3.35  pred  [6.0377555]  diff  [-2.6877556]\n",
      "true  7.0  pred  [8.659271]  diff  [-1.6592712]\n",
      "true  10.0  pred  [8.79797]  diff  [1.2020302]\n",
      "true  8.0  pred  [8.889538]  diff  [-0.8895378]\n",
      "true  6.88  pred  [8.481246]  diff  [-1.6012459]\n",
      "true  5.55  pred  [9.600135]  diff  [-4.0501347]\n",
      "true  7.5  pred  [7.14033]  diff  [0.35967016]\n",
      "true  8.93  pred  [8.675242]  diff  [0.25475788]\n",
      "true  9.0  pred  [9.281288]  diff  [-0.28128815]\n",
      "true  3.5  pred  [7.1326776]  diff  [-3.6326776]\n",
      "true  5.77  pred  [9.714548]  diff  [-3.9445481]\n",
      "true  25.0  pred  [9.773234]  diff  [15.226766]\n",
      "true  6.85  pred  [12.986636]  diff  [-6.1366363]\n",
      "true  6.5  pred  [9.184217]  diff  [-2.6842175]\n",
      "true  3.75  pred  [8.421943]  diff  [-4.6719427]\n",
      "true  3.5  pred  [9.399197]  diff  [-5.8991966]\n",
      "true  4.5  pred  [6.8535824]  diff  [-2.3535824]\n",
      "true  2.01  pred  [6.7436695]  diff  [-4.7336693]\n",
      "true  4.17  pred  [10.495666]  diff  [-6.3256655]\n",
      "true  13.0  pred  [11.431307]  diff  [1.5686932]\n",
      "true  3.98  pred  [8.220968]  diff  [-4.240968]\n",
      "true  7.5  pred  [8.1624155]  diff  [-0.6624155]\n",
      "true  13.12  pred  [9.199771]  diff  [3.920229]\n",
      "true  4.0  pred  [9.776086]  diff  [-5.776086]\n",
      "true  3.95  pred  [7.253838]  diff  [-3.303838]\n",
      "true  13.0  pred  [10.080976]  diff  [2.9190245]\n",
      "true  9.0  pred  [9.409669]  diff  [-0.40966892]\n",
      "true  4.55  pred  [6.3645234]  diff  [-1.8145232]\n",
      "true  9.5  pred  [8.236437]  diff  [1.2635632]\n",
      "true  4.5  pred  [5.960171]  diff  [-1.4601712]\n",
      "true  8.75  pred  [8.378799]  diff  [0.37120056]\n",
      "true  10.0  pred  [12.266226]  diff  [-2.2662258]\n",
      "true  18.0  pred  [13.729986]  diff  [4.270014]\n",
      "true  24.98  pred  [14.5452585]  diff  [10.434741]\n",
      "true  12.05  pred  [9.688054]  diff  [2.361946]\n",
      "true  22.0  pred  [10.798134]  diff  [11.201866]\n",
      "true  8.75  pred  [10.32863]  diff  [-1.5786304]\n",
      "true  22.2  pred  [11.7519045]  diff  [10.448096]\n",
      "true  17.25  pred  [11.20169]  diff  [6.0483103]\n",
      "true  6.0  pred  [9.904353]  diff  [-3.9043531]\n",
      "true  8.06  pred  [10.274448]  diff  [-2.214448]\n",
      "true  9.24  pred  [11.213276]  diff  [-1.9732761]\n",
      "true  12.0  pred  [9.2463455]  diff  [2.7536545]\n",
      "true  10.61  pred  [11.31147]  diff  [-0.7014704]\n",
      "true  5.71  pred  [10.122604]  diff  [-4.4126043]\n",
      "true  10.0  pred  [6.9623446]  diff  [3.0376554]\n",
      "true  17.5  pred  [11.493676]  diff  [6.006324]\n",
      "true  15.0  pred  [12.891368]  diff  [2.108632]\n",
      "true  7.78  pred  [9.281288]  diff  [-1.5012879]\n",
      "true  7.8  pred  [11.01491]  diff  [-3.2149096]\n",
      "true  10.0  pred  [12.767559]  diff  [-2.767559]\n",
      "true  24.98  pred  [9.6468935]  diff  [15.333106]\n",
      "true  10.28  pred  [9.048292]  diff  [1.2317076]\n",
      "true  15.0  pred  [11.557683]  diff  [3.442317]\n",
      "true  12.0  pred  [12.689318]  diff  [-0.6893177]\n",
      "true  10.58  pred  [11.60884]  diff  [-1.0288401]\n",
      "true  5.85  pred  [12.1821995]  diff  [-6.3321996]\n",
      "true  11.22  pred  [14.384478]  diff  [-3.1644773]\n",
      "true  8.56  pred  [10.073173]  diff  [-1.5131721]\n",
      "true  13.89  pred  [12.103537]  diff  [1.7864637]\n",
      "true  5.71  pred  [10.836076]  diff  [-5.1260757]\n",
      "true  15.79  pred  [11.470705]  diff  [4.319295]\n",
      "true  7.5  pred  [11.923069]  diff  [-4.423069]\n",
      "true  11.25  pred  [9.157392]  diff  [2.0926085]\n",
      "true  6.15  pred  [11.4717655]  diff  [-5.3217654]\n",
      "true  13.45  pred  [12.089264]  diff  [1.3607359]\n",
      "true  6.25  pred  [9.548702]  diff  [-3.2987022]\n",
      "true  6.5  pred  [8.353665]  diff  [-1.8536654]\n",
      "true  12.0  pred  [8.438149]  diff  [3.5618505]\n",
      "true  8.5  pred  [8.850949]  diff  [-0.3509493]\n",
      "true  8.0  pred  [15.829385]  diff  [-7.829385]\n",
      "true  5.75  pred  [8.547819]  diff  [-2.7978191]\n",
      "true  15.73  pred  [9.999844]  diff  [5.730156]\n",
      "true  9.86  pred  [11.69173]  diff  [-1.8317299]\n",
      "true  13.51  pred  [14.384506]  diff  [-0.874506]\n",
      "true  5.4  pred  [10.280111]  diff  [-4.880111]\n",
      "true  6.25  pred  [12.751933]  diff  [-6.501933]\n",
      "true  5.5  pred  [12.762014]  diff  [-7.2620144]\n",
      "true  5.0  pred  [7.8989186]  diff  [-2.8989186]\n",
      "true  6.25  pred  [14.636234]  diff  [-8.386234]\n",
      "true  5.75  pred  [7.612484]  diff  [-1.862484]\n",
      "true  20.5  pred  [12.767559]  diff  [7.732441]\n",
      "true  5.0  pred  [7.548077]  diff  [-2.548077]\n",
      "true  7.0  pred  [14.791205]  diff  [-7.7912054]\n",
      "true  18.0  pred  [12.873365]  diff  [5.1266346]\n",
      "true  12.0  pred  [14.342597]  diff  [-2.342597]\n",
      "true  20.4  pred  [10.137345]  diff  [10.262654]\n",
      "true  22.2  pred  [13.589376]  diff  [8.610624]\n",
      "true  16.42  pred  [12.027473]  diff  [4.3925266]\n",
      "true  8.63  pred  [7.830672]  diff  [0.7993283]\n",
      "true  19.38  pred  [10.523915]  diff  [8.856084]\n",
      "true  14.0  pred  [11.560617]  diff  [2.4393826]\n",
      "true  10.0  pred  [11.665641]  diff  [-1.6656408]\n",
      "true  15.95  pred  [12.66444]  diff  [3.2855597]\n",
      "true  20.0  pred  [12.763031]  diff  [7.236969]\n",
      "true  10.0  pred  [10.280111]  diff  [-0.2801113]\n",
      "true  24.98  pred  [8.502047]  diff  [16.477953]\n",
      "true  11.25  pred  [9.613447]  diff  [1.6365528]\n",
      "true  22.83  pred  [14.074476]  diff  [8.755524]\n",
      "true  10.2  pred  [13.933936]  diff  [-3.7339363]\n",
      "true  10.0  pred  [8.144807]  diff  [1.8551931]\n",
      "true  14.0  pred  [14.65815]  diff  [-0.6581497]\n",
      "true  12.5  pred  [12.649429]  diff  [-0.14942932]\n",
      "true  5.79  pred  [9.276052]  diff  [-3.4860525]\n",
      "true  24.98  pred  [13.6497]  diff  [11.330299]\n",
      "true  4.35  pred  [6.5509133]  diff  [-2.2009134]\n",
      "true  11.25  pred  [10.746834]  diff  [0.5031662]\n",
      "true  6.67  pred  [11.414806]  diff  [-4.7448063]\n",
      "true  8.0  pred  [11.668079]  diff  [-3.6680794]\n",
      "true  18.16  pred  [11.470705]  diff  [6.689295]\n",
      "true  12.0  pred  [11.255327]  diff  [0.7446728]\n",
      "true  8.89  pred  [13.104747]  diff  [-4.2147465]\n",
      "true  9.5  pred  [11.772211]  diff  [-2.272211]\n",
      "true  13.65  pred  [11.698722]  diff  [1.9512777]\n",
      "true  12.0  pred  [15.692038]  diff  [-3.6920376]\n",
      "true  15.0  pred  [11.549966]  diff  [3.4500341]\n",
      "true  12.67  pred  [12.696221]  diff  [-0.02622128]\n",
      "true  7.38  pred  [10.091782]  diff  [-2.7117815]\n",
      "true  15.56  pred  [11.42704]  diff  [4.1329603]\n",
      "true  7.45  pred  [8.543921]  diff  [-1.0939217]\n",
      "true  6.25  pred  [9.7339525]  diff  [-3.4839525]\n",
      "true  6.25  pred  [8.852869]  diff  [-2.602869]\n",
      "true  9.37  pred  [11.933128]  diff  [-2.5631285]\n",
      "true  22.5  pred  [13.4412155]  diff  [9.0587845]\n",
      "true  7.5  pred  [12.337263]  diff  [-4.837263]\n",
      "true  7.0  pred  [8.809601]  diff  [-1.8096008]\n",
      "true  5.75  pred  [7.6535573]  diff  [-1.9035573]\n",
      "true  7.67  pred  [10.007032]  diff  [-2.3370323]\n",
      "true  12.5  pred  [10.910156]  diff  [1.5898438]\n",
      "true  16.0  pred  [9.157579]  diff  [6.8424206]\n",
      "true  11.79  pred  [10.32575]  diff  [1.4642496]\n",
      "true  11.36  pred  [10.940302]  diff  [0.41969776]\n",
      "true  6.1  pred  [9.199771]  diff  [-3.099771]\n",
      "true  23.25  pred  [13.902466]  diff  [9.347534]\n",
      "true  19.88  pred  [10.536032]  diff  [9.343967]\n",
      "true  15.38  pred  [13.822686]  diff  [1.5573139]\n"
     ]
    }
   ],
   "source": [
    "for i,j in zip(target,y_preds):\n",
    "    print('true ', i, ' pred ', j, ' diff ', i-j)"
   ]
  },
  {
   "cell_type": "markdown",
   "metadata": {
    "colab_type": "text",
    "id": "fViMhU_4q_W2"
   },
   "source": [
    "Save the model using load_model (check the lecture slides)"
   ]
  },
  {
   "cell_type": "markdown",
   "metadata": {
    "colab_type": "text",
    "id": "1_7hjHWmq_W3"
   },
   "source": [
    "import the module first"
   ]
  },
  {
   "cell_type": "code",
   "execution_count": 0,
   "metadata": {
    "colab": {},
    "colab_type": "code",
    "id": "weaJegNwq_W3"
   },
   "outputs": [],
   "source": [
    "from keras.models import load_model"
   ]
  },
  {
   "cell_type": "markdown",
   "metadata": {
    "colab_type": "text",
    "id": "5T2Jfsxfq_W5"
   },
   "source": [
    "Save the model to the .h5 file"
   ]
  },
  {
   "cell_type": "code",
   "execution_count": 0,
   "metadata": {
    "colab": {},
    "colab_type": "code",
    "id": "AXoQBdqlq_W5"
   },
   "outputs": [],
   "source": [
    "model.save('model.h5')"
   ]
  },
  {
   "cell_type": "code",
   "execution_count": 0,
   "metadata": {
    "colab": {},
    "colab_type": "code",
    "id": "a_-qvDTA3vSv"
   },
   "outputs": [],
   "source": []
  }
 ],
 "metadata": {
  "colab": {
   "name": "lab_8.ipynb",
   "provenance": [],
   "toc_visible": true,
   "version": "0.3.2"
  },
  "kernelspec": {
   "display_name": "Python 3",
   "language": "python",
   "name": "python3"
  },
  "language_info": {
   "codemirror_mode": {
    "name": "ipython",
    "version": 3
   },
   "file_extension": ".py",
   "mimetype": "text/x-python",
   "name": "python",
   "nbconvert_exporter": "python",
   "pygments_lexer": "ipython3",
   "version": "3.7.3"
  }
 },
 "nbformat": 4,
 "nbformat_minor": 1
}
